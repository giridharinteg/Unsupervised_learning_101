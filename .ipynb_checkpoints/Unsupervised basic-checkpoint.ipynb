{
 "cells": [
  {
   "cell_type": "markdown",
   "metadata": {},
   "source": [
    "# Unsupervised learning\n",
    "- Its a class of ML Algs that help discover hidden patterns in data\n",
    "- like clustering people based on their buying pattern\n",
    "- Findinf patterns among purhases and using these to represent the data in a compressed form\n",
    "\n",
    "- No prediction task\n",
    "- No classification task\n",
    "- Because no labels are known\n",
    "\n",
    "- Dimentions are number of features\n",
    "- If it is more than 3 we cant visualize\n",
    "- But using unsupervised learning we can still get insights"
   ]
  },
  {
   "cell_type": "markdown",
   "metadata": {},
   "source": [
    "# K-means Clustering\n",
    "from sklearn.cluster import KMeans\n",
    "model = KMeans(n_clusters = 3)\n",
    "model.fit(samples)\n",
    "labels = model.predict(samples)\n",
    "print(labels)"
   ]
  },
  {
   "cell_type": "markdown",
   "metadata": {},
   "source": [
    "# Scatter plot for visualization\n",
    "import matplotlib.pyplot as plt\n",
    "xs = x_axis_array\n",
    "ys = y_axis_array\n",
    "plt.scatter(xs, ys, c = labels)\n",
    "plt.show()"
   ]
  },
  {
   "cell_type": "code",
   "execution_count": null,
   "metadata": {},
   "outputs": [],
   "source": [
    "# Full code for getting centroids and scatter points\n",
    "# Import pyplot\n",
    "import matplotlib.pyplot as plt\n",
    "\n",
    "# Assign the columns of new_points: xs and ys\n",
    "xs = new_points[:,0]\n",
    "ys = new_points[:,1]\n",
    "\n",
    "# Make a scatter plot of xs and ys, using labels to define the colors\n",
    "plt.scatter(xs, ys, c = labels, alpha = 0.5)\n",
    "\n",
    "# Assign the cluster centers: centroids\n",
    "centroids = model.cluster_centers_\n",
    "\n",
    "# Assign the columns of centroids: centroids_x, centroids_y\n",
    "centroids_x = centroids[:,0]\n",
    "centroids_y = centroids[:,1]\n",
    "\n",
    "# Make a scatter plot of centroids_x and centroids_y\n",
    "plt.scatter(centroids_x, centroids_y, marker = 'D', s = 50)\n",
    "plt.show()\n"
   ]
  },
  {
   "cell_type": "markdown",
   "metadata": {},
   "source": [
    "### But how can you be sure that 3 clusters is the correct choice? In other words, how can you evaluate the quality of a clustering?"
   ]
  },
  {
   "cell_type": "code",
   "execution_count": null,
   "metadata": {},
   "outputs": [],
   "source": [
    "# Cross-Tabulation\n",
    "### we can use cross tabulation to check which label corresponds to which cluster\n",
    "\n",
    "- pandas has an option for cross tabulation\n",
    "import pandas as pd\n",
    "df = pd.Dataframe({'labels':labels, 'species':species})\n",
    "ct = pd.crosstab(df['labels'], df['species'])\n",
    "print(ct)\n",
    "\n",
    "- The quality can be measured by using a method called Inertia\n",
    "- it is a measure of how spread the points are in a cluster (lower the better)\n",
    "- we need the points to hug the cluster center\n",
    "\n",
    "after \n",
    "model.fit()\n",
    "we can use \n",
    "model.inertia_\n",
    "\n",
    "clustering aims at minimizing the inertia_\n",
    "\n",
    "we can plot the inertia against different values of n_clusters\n",
    "\n",
    "Choose the elbow point is the thumb rule"
   ]
  },
  {
   "cell_type": "code",
   "execution_count": null,
   "metadata": {},
   "outputs": [],
   "source": []
  }
 ],
 "metadata": {
  "kernelspec": {
   "display_name": "Python 3",
   "language": "python",
   "name": "python3"
  },
  "language_info": {
   "codemirror_mode": {
    "name": "ipython",
    "version": 3
   },
   "file_extension": ".py",
   "mimetype": "text/x-python",
   "name": "python",
   "nbconvert_exporter": "python",
   "pygments_lexer": "ipython3",
   "version": "3.6.8"
  }
 },
 "nbformat": 4,
 "nbformat_minor": 2
}
